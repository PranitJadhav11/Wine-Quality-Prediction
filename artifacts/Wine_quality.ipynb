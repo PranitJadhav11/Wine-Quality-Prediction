{
 "cells": [
  {
   "cell_type": "code",
   "execution_count": 1,
   "id": "1067bea1",
   "metadata": {},
   "outputs": [],
   "source": [
    "import pandas as pd\n",
    "import numpy as np\n"
   ]
  },
  {
   "cell_type": "markdown",
   "id": "6de5fcbe",
   "metadata": {},
   "source": [
    "# Problem Statement"
   ]
  },
  {
   "cell_type": "raw",
   "id": "f4973afa",
   "metadata": {},
   "source": [
    "# To predict Wine Quality\n",
    "\n",
    "Input variables (based on physicochemical tests):\n",
    "1 - fixed acidity\n",
    "2 - volatile acidity\n",
    "3 - citric acid\n",
    "4 - residual sugar\n",
    "5 - chlorides\n",
    "6 - free sulfur dioxide\n",
    "7 - total sulfur dioxide\n",
    "8 - density\n",
    "9 - pH\n",
    "10 - sulphates\n",
    "11 - alcohol\n",
    "\n",
    "## Output variable (based on sensory data):\n",
    "12 - quality (score between 0 and 10)(Good Wine , Bad Wine)"
   ]
  },
  {
   "cell_type": "markdown",
   "id": "dadf9bb8",
   "metadata": {},
   "source": [
    "# Data Gathering"
   ]
  },
  {
   "cell_type": "code",
   "execution_count": 2,
   "id": "52f63cdc",
   "metadata": {},
   "outputs": [
    {
     "data": {
      "text/html": [
       "<div>\n",
       "<style scoped>\n",
       "    .dataframe tbody tr th:only-of-type {\n",
       "        vertical-align: middle;\n",
       "    }\n",
       "\n",
       "    .dataframe tbody tr th {\n",
       "        vertical-align: top;\n",
       "    }\n",
       "\n",
       "    .dataframe thead th {\n",
       "        text-align: right;\n",
       "    }\n",
       "</style>\n",
       "<table border=\"1\" class=\"dataframe\">\n",
       "  <thead>\n",
       "    <tr style=\"text-align: right;\">\n",
       "      <th></th>\n",
       "      <th>fixed acidity</th>\n",
       "      <th>volatile acidity</th>\n",
       "      <th>citric acid</th>\n",
       "      <th>residual sugar</th>\n",
       "      <th>chlorides</th>\n",
       "      <th>free sulfur dioxide</th>\n",
       "      <th>total sulfur dioxide</th>\n",
       "      <th>density</th>\n",
       "      <th>pH</th>\n",
       "      <th>sulphates</th>\n",
       "      <th>alcohol</th>\n",
       "      <th>quality</th>\n",
       "    </tr>\n",
       "  </thead>\n",
       "  <tbody>\n",
       "    <tr>\n",
       "      <th>0</th>\n",
       "      <td>7.4</td>\n",
       "      <td>0.700</td>\n",
       "      <td>0.00</td>\n",
       "      <td>1.9</td>\n",
       "      <td>0.076</td>\n",
       "      <td>11.0</td>\n",
       "      <td>34.0</td>\n",
       "      <td>0.99780</td>\n",
       "      <td>3.51</td>\n",
       "      <td>0.56</td>\n",
       "      <td>9.4</td>\n",
       "      <td>5</td>\n",
       "    </tr>\n",
       "    <tr>\n",
       "      <th>1</th>\n",
       "      <td>7.8</td>\n",
       "      <td>0.880</td>\n",
       "      <td>0.00</td>\n",
       "      <td>2.6</td>\n",
       "      <td>0.098</td>\n",
       "      <td>25.0</td>\n",
       "      <td>67.0</td>\n",
       "      <td>0.99680</td>\n",
       "      <td>3.20</td>\n",
       "      <td>0.68</td>\n",
       "      <td>9.8</td>\n",
       "      <td>5</td>\n",
       "    </tr>\n",
       "    <tr>\n",
       "      <th>2</th>\n",
       "      <td>7.8</td>\n",
       "      <td>0.760</td>\n",
       "      <td>0.04</td>\n",
       "      <td>2.3</td>\n",
       "      <td>0.092</td>\n",
       "      <td>15.0</td>\n",
       "      <td>54.0</td>\n",
       "      <td>0.99700</td>\n",
       "      <td>3.26</td>\n",
       "      <td>0.65</td>\n",
       "      <td>9.8</td>\n",
       "      <td>5</td>\n",
       "    </tr>\n",
       "    <tr>\n",
       "      <th>3</th>\n",
       "      <td>11.2</td>\n",
       "      <td>0.280</td>\n",
       "      <td>0.56</td>\n",
       "      <td>1.9</td>\n",
       "      <td>0.075</td>\n",
       "      <td>17.0</td>\n",
       "      <td>60.0</td>\n",
       "      <td>0.99800</td>\n",
       "      <td>3.16</td>\n",
       "      <td>0.58</td>\n",
       "      <td>9.8</td>\n",
       "      <td>6</td>\n",
       "    </tr>\n",
       "    <tr>\n",
       "      <th>4</th>\n",
       "      <td>7.4</td>\n",
       "      <td>0.700</td>\n",
       "      <td>0.00</td>\n",
       "      <td>1.9</td>\n",
       "      <td>0.076</td>\n",
       "      <td>11.0</td>\n",
       "      <td>34.0</td>\n",
       "      <td>0.99780</td>\n",
       "      <td>3.51</td>\n",
       "      <td>0.56</td>\n",
       "      <td>9.4</td>\n",
       "      <td>5</td>\n",
       "    </tr>\n",
       "    <tr>\n",
       "      <th>...</th>\n",
       "      <td>...</td>\n",
       "      <td>...</td>\n",
       "      <td>...</td>\n",
       "      <td>...</td>\n",
       "      <td>...</td>\n",
       "      <td>...</td>\n",
       "      <td>...</td>\n",
       "      <td>...</td>\n",
       "      <td>...</td>\n",
       "      <td>...</td>\n",
       "      <td>...</td>\n",
       "      <td>...</td>\n",
       "    </tr>\n",
       "    <tr>\n",
       "      <th>1594</th>\n",
       "      <td>6.2</td>\n",
       "      <td>0.600</td>\n",
       "      <td>0.08</td>\n",
       "      <td>2.0</td>\n",
       "      <td>0.090</td>\n",
       "      <td>32.0</td>\n",
       "      <td>44.0</td>\n",
       "      <td>0.99490</td>\n",
       "      <td>3.45</td>\n",
       "      <td>0.58</td>\n",
       "      <td>10.5</td>\n",
       "      <td>5</td>\n",
       "    </tr>\n",
       "    <tr>\n",
       "      <th>1595</th>\n",
       "      <td>5.9</td>\n",
       "      <td>0.550</td>\n",
       "      <td>0.10</td>\n",
       "      <td>2.2</td>\n",
       "      <td>0.062</td>\n",
       "      <td>39.0</td>\n",
       "      <td>51.0</td>\n",
       "      <td>0.99512</td>\n",
       "      <td>3.52</td>\n",
       "      <td>0.76</td>\n",
       "      <td>11.2</td>\n",
       "      <td>6</td>\n",
       "    </tr>\n",
       "    <tr>\n",
       "      <th>1596</th>\n",
       "      <td>6.3</td>\n",
       "      <td>0.510</td>\n",
       "      <td>0.13</td>\n",
       "      <td>2.3</td>\n",
       "      <td>0.076</td>\n",
       "      <td>29.0</td>\n",
       "      <td>40.0</td>\n",
       "      <td>0.99574</td>\n",
       "      <td>3.42</td>\n",
       "      <td>0.75</td>\n",
       "      <td>11.0</td>\n",
       "      <td>6</td>\n",
       "    </tr>\n",
       "    <tr>\n",
       "      <th>1597</th>\n",
       "      <td>5.9</td>\n",
       "      <td>0.645</td>\n",
       "      <td>0.12</td>\n",
       "      <td>2.0</td>\n",
       "      <td>0.075</td>\n",
       "      <td>32.0</td>\n",
       "      <td>44.0</td>\n",
       "      <td>0.99547</td>\n",
       "      <td>3.57</td>\n",
       "      <td>0.71</td>\n",
       "      <td>10.2</td>\n",
       "      <td>5</td>\n",
       "    </tr>\n",
       "    <tr>\n",
       "      <th>1598</th>\n",
       "      <td>6.0</td>\n",
       "      <td>0.310</td>\n",
       "      <td>0.47</td>\n",
       "      <td>3.6</td>\n",
       "      <td>0.067</td>\n",
       "      <td>18.0</td>\n",
       "      <td>42.0</td>\n",
       "      <td>0.99549</td>\n",
       "      <td>3.39</td>\n",
       "      <td>0.66</td>\n",
       "      <td>11.0</td>\n",
       "      <td>6</td>\n",
       "    </tr>\n",
       "  </tbody>\n",
       "</table>\n",
       "<p>1599 rows × 12 columns</p>\n",
       "</div>"
      ],
      "text/plain": [
       "      fixed acidity  volatile acidity  citric acid  residual sugar  chlorides  \\\n",
       "0               7.4             0.700         0.00             1.9      0.076   \n",
       "1               7.8             0.880         0.00             2.6      0.098   \n",
       "2               7.8             0.760         0.04             2.3      0.092   \n",
       "3              11.2             0.280         0.56             1.9      0.075   \n",
       "4               7.4             0.700         0.00             1.9      0.076   \n",
       "...             ...               ...          ...             ...        ...   \n",
       "1594            6.2             0.600         0.08             2.0      0.090   \n",
       "1595            5.9             0.550         0.10             2.2      0.062   \n",
       "1596            6.3             0.510         0.13             2.3      0.076   \n",
       "1597            5.9             0.645         0.12             2.0      0.075   \n",
       "1598            6.0             0.310         0.47             3.6      0.067   \n",
       "\n",
       "      free sulfur dioxide  total sulfur dioxide  density    pH  sulphates  \\\n",
       "0                    11.0                  34.0  0.99780  3.51       0.56   \n",
       "1                    25.0                  67.0  0.99680  3.20       0.68   \n",
       "2                    15.0                  54.0  0.99700  3.26       0.65   \n",
       "3                    17.0                  60.0  0.99800  3.16       0.58   \n",
       "4                    11.0                  34.0  0.99780  3.51       0.56   \n",
       "...                   ...                   ...      ...   ...        ...   \n",
       "1594                 32.0                  44.0  0.99490  3.45       0.58   \n",
       "1595                 39.0                  51.0  0.99512  3.52       0.76   \n",
       "1596                 29.0                  40.0  0.99574  3.42       0.75   \n",
       "1597                 32.0                  44.0  0.99547  3.57       0.71   \n",
       "1598                 18.0                  42.0  0.99549  3.39       0.66   \n",
       "\n",
       "      alcohol  quality  \n",
       "0         9.4        5  \n",
       "1         9.8        5  \n",
       "2         9.8        5  \n",
       "3         9.8        6  \n",
       "4         9.4        5  \n",
       "...       ...      ...  \n",
       "1594     10.5        5  \n",
       "1595     11.2        6  \n",
       "1596     11.0        6  \n",
       "1597     10.2        5  \n",
       "1598     11.0        6  \n",
       "\n",
       "[1599 rows x 12 columns]"
      ]
     },
     "execution_count": 2,
     "metadata": {},
     "output_type": "execute_result"
    }
   ],
   "source": [
    "df = pd.read_csv(\"winequality-red.csv\")\n",
    "df"
   ]
  },
  {
   "cell_type": "markdown",
   "id": "6874436e",
   "metadata": {},
   "source": [
    "# EDA"
   ]
  },
  {
   "cell_type": "code",
   "execution_count": 3,
   "id": "b21d6a02",
   "metadata": {},
   "outputs": [
    {
     "data": {
      "text/plain": [
       "Index(['fixed acidity', 'volatile acidity', 'citric acid', 'residual sugar',\n",
       "       'chlorides', 'free sulfur dioxide', 'total sulfur dioxide', 'density',\n",
       "       'pH', 'sulphates', 'alcohol', 'quality'],\n",
       "      dtype='object')"
      ]
     },
     "execution_count": 3,
     "metadata": {},
     "output_type": "execute_result"
    }
   ],
   "source": [
    "df.columns\n"
   ]
  },
  {
   "cell_type": "code",
   "execution_count": 4,
   "id": "c8e04816",
   "metadata": {},
   "outputs": [
    {
     "data": {
      "text/plain": [
       "array([5, 6, 7, 4, 8, 3], dtype=int64)"
      ]
     },
     "execution_count": 4,
     "metadata": {},
     "output_type": "execute_result"
    }
   ],
   "source": [
    "df.quality.unique()"
   ]
  },
  {
   "cell_type": "code",
   "execution_count": 5,
   "id": "45a85b12",
   "metadata": {},
   "outputs": [
    {
     "data": {
      "text/plain": [
       "5    681\n",
       "6    638\n",
       "7    199\n",
       "4     53\n",
       "8     18\n",
       "3     10\n",
       "Name: quality, dtype: int64"
      ]
     },
     "execution_count": 5,
     "metadata": {},
     "output_type": "execute_result"
    }
   ],
   "source": [
    "df.quality.value_counts()"
   ]
  },
  {
   "cell_type": "code",
   "execution_count": 6,
   "id": "0a6a731f",
   "metadata": {},
   "outputs": [
    {
     "name": "stdout",
     "output_type": "stream",
     "text": [
      "<class 'pandas.core.frame.DataFrame'>\n",
      "RangeIndex: 1599 entries, 0 to 1598\n",
      "Data columns (total 12 columns):\n",
      " #   Column                Non-Null Count  Dtype  \n",
      "---  ------                --------------  -----  \n",
      " 0   fixed acidity         1599 non-null   float64\n",
      " 1   volatile acidity      1599 non-null   float64\n",
      " 2   citric acid           1599 non-null   float64\n",
      " 3   residual sugar        1599 non-null   float64\n",
      " 4   chlorides             1599 non-null   float64\n",
      " 5   free sulfur dioxide   1599 non-null   float64\n",
      " 6   total sulfur dioxide  1599 non-null   float64\n",
      " 7   density               1599 non-null   float64\n",
      " 8   pH                    1599 non-null   float64\n",
      " 9   sulphates             1599 non-null   float64\n",
      " 10  alcohol               1599 non-null   float64\n",
      " 11  quality               1599 non-null   int64  \n",
      "dtypes: float64(11), int64(1)\n",
      "memory usage: 150.0 KB\n"
     ]
    }
   ],
   "source": [
    "df.info()"
   ]
  },
  {
   "cell_type": "code",
   "execution_count": 7,
   "id": "22dbf60d",
   "metadata": {},
   "outputs": [
    {
     "data": {
      "text/plain": [
       "<AxesSubplot:>"
      ]
     },
     "execution_count": 7,
     "metadata": {},
     "output_type": "execute_result"
    },
    {
     "data": {
      "image/png": "[encoded data removed]",
      "text/plain": [
       "<Figure size 432x288 with 2 Axes>"
      ]
     },
     "metadata": {
      "needs_background": "light"
     },
     "output_type": "display_data"
    }
   ],
   "source": [
    "import seaborn as sns\n",
    "\n",
    "sns.heatmap(df.corr(),annot=True)"
   ]
  },
  {
   "cell_type": "code",
   "execution_count": 8,
   "id": "2f96b47c",
   "metadata": {},
   "outputs": [
    {
     "data": {
      "text/html": [
       "<div>\n",
       "<style scoped>\n",
       "    .dataframe tbody tr th:only-of-type {\n",
       "        vertical-align: middle;\n",
       "    }\n",
       "\n",
       "    .dataframe tbody tr th {\n",
       "        vertical-align: top;\n",
       "    }\n",
       "\n",
       "    .dataframe thead th {\n",
       "        text-align: right;\n",
       "    }\n",
       "</style>\n",
       "<table border=\"1\" class=\"dataframe\">\n",
       "  <thead>\n",
       "    <tr style=\"text-align: right;\">\n",
       "      <th></th>\n",
       "      <th>fixed acidity</th>\n",
       "      <th>volatile acidity</th>\n",
       "      <th>citric acid</th>\n",
       "      <th>residual sugar</th>\n",
       "      <th>chlorides</th>\n",
       "      <th>free sulfur dioxide</th>\n",
       "      <th>total sulfur dioxide</th>\n",
       "      <th>density</th>\n",
       "      <th>pH</th>\n",
       "      <th>sulphates</th>\n",
       "      <th>alcohol</th>\n",
       "      <th>quality</th>\n",
       "    </tr>\n",
       "  </thead>\n",
       "  <tbody>\n",
       "    <tr>\n",
       "      <th>quality</th>\n",
       "      <td>0.124052</td>\n",
       "      <td>-0.390558</td>\n",
       "      <td>0.226373</td>\n",
       "      <td>0.013732</td>\n",
       "      <td>-0.128907</td>\n",
       "      <td>-0.050656</td>\n",
       "      <td>-0.1851</td>\n",
       "      <td>-0.174919</td>\n",
       "      <td>-0.057731</td>\n",
       "      <td>0.251397</td>\n",
       "      <td>0.476166</td>\n",
       "      <td>1.0</td>\n",
       "    </tr>\n",
       "  </tbody>\n",
       "</table>\n",
       "</div>"
      ],
      "text/plain": [
       "         fixed acidity  volatile acidity  citric acid  residual sugar  \\\n",
       "quality       0.124052         -0.390558     0.226373        0.013732   \n",
       "\n",
       "         chlorides  free sulfur dioxide  total sulfur dioxide   density  \\\n",
       "quality  -0.128907            -0.050656               -0.1851 -0.174919   \n",
       "\n",
       "               pH  sulphates   alcohol  quality  \n",
       "quality -0.057731   0.251397  0.476166      1.0  "
      ]
     },
     "execution_count": 8,
     "metadata": {},
     "output_type": "execute_result"
    }
   ],
   "source": [
    "df.corr().tail(1)"
   ]
  },
  {
   "cell_type": "markdown",
   "id": "0d60e69a",
   "metadata": {},
   "source": [
    "## Outliers Detection"
   ]
  },
  {
   "cell_type": "code",
   "execution_count": 9,
   "id": "d22ef801",
   "metadata": {},
   "outputs": [],
   "source": [
    "def get_outliers(array):\n",
    "    outlier = []\n",
    "    mean = np.mean(array)\n",
    "    std = np.std(array)\n",
    "    print(f\"Mean of Array = {mean}\")\n",
    "    print(f\"Std Deviation of Array = {std}\")\n",
    "    \n",
    "    for i in array: \n",
    "        z_score = (i - mean) / std \n",
    "        \n",
    "        if np.abs(z_score) > 3: \n",
    "            outlier.append(i)\n",
    "            print(f\"value = {i} and Z-score = {np.around(z_score,2)}\")\n",
    "    return outlier"
   ]
  },
  {
   "cell_type": "code",
   "execution_count": 10,
   "id": "947111c8",
   "metadata": {},
   "outputs": [
    {
     "data": {
      "text/plain": [
       "<AxesSubplot:xlabel='fixed acidity', ylabel='Density'>"
      ]
     },
     "execution_count": 10,
     "metadata": {},
     "output_type": "execute_result"
    },
    {
     "data": {
      "image/png": "[encoded data removed]",
      "text/plain": [
       "<Figure size 432x288 with 1 Axes>"
      ]
     },
     "metadata": {
      "needs_background": "light"
     },
     "output_type": "display_data"
    }
   ],
   "source": [
    "sns.kdeplot(df[\"fixed acidity\"])"
   ]
  },
  {
   "cell_type": "markdown",
   "id": "0bb8910e",
   "metadata": {},
   "source": [
    "## Fixed Acidity"
   ]
  },
  {
   "cell_type": "code",
   "execution_count": 11,
   "id": "2653fce9",
   "metadata": {},
   "outputs": [
    {
     "name": "stderr",
     "output_type": "stream",
     "text": [
      "C:\\Users\\prran\\anaconda3\\lib\\site-packages\\seaborn\\_decorators.py:36: FutureWarning: Pass the following variable as a keyword arg: x. From version 0.12, the only valid positional argument will be `data`, and passing other arguments without an explicit keyword will result in an error or misinterpretation.\n",
      "  warnings.warn(\n"
     ]
    },
    {
     "data": {
      "text/plain": [
       "<AxesSubplot:xlabel='fixed acidity'>"
      ]
     },
     "execution_count": 11,
     "metadata": {},
     "output_type": "execute_result"
    },
    {
     "data": {
      "image/png": "[encoded data removed]",
      "text/plain": [
       "<Figure size 720x504 with 1 Axes>"
      ]
     },
     "metadata": {
      "needs_background": "light"
     },
     "output_type": "display_data"
    }
   ],
   "source": [
    "import matplotlib.pyplot as plt\n",
    "\n",
    "plt.figure(figsize=(10,7))\n",
    "sns.boxplot(df[\"fixed acidity\"] )"
   ]
  },
  {
   "cell_type": "code",
   "execution_count": 12,
   "id": "a26b6359",
   "metadata": {},
   "outputs": [
    {
     "name": "stdout",
     "output_type": "stream",
     "text": [
      "Mean of Array = 8.319637273295838\n",
      "Std Deviation of Array = 1.7405518001102782\n",
      "value = 15.0 and Z-score = 3.84\n",
      "value = 15.0 and Z-score = 3.84\n",
      "value = 13.8 and Z-score = 3.15\n",
      "value = 14.0 and Z-score = 3.26\n",
      "value = 13.7 and Z-score = 3.09\n",
      "value = 13.7 and Z-score = 3.09\n",
      "value = 15.6 and Z-score = 4.18\n",
      "value = 14.3 and Z-score = 3.44\n",
      "value = 15.5 and Z-score = 4.13\n",
      "value = 15.5 and Z-score = 4.13\n",
      "value = 15.6 and Z-score = 4.18\n",
      "value = 15.9 and Z-score = 4.36\n"
     ]
    },
    {
     "data": {
      "text/plain": [
       "[15.0, 15.0, 13.8, 14.0, 13.7, 13.7, 15.6, 14.3, 15.5, 15.5, 15.6, 15.9]"
      ]
     },
     "execution_count": 12,
     "metadata": {},
     "output_type": "execute_result"
    }
   ],
   "source": [
    "get_outliers(df[\"fixed acidity\"])"
   ]
  },
  {
   "cell_type": "markdown",
   "id": "db64c55c",
   "metadata": {},
   "source": [
    "## volatile acidity"
   ]
  },
  {
   "cell_type": "code",
   "execution_count": 13,
   "id": "a23768a7",
   "metadata": {},
   "outputs": [
    {
     "data": {
      "text/plain": [
       "<AxesSubplot:xlabel='volatile acidity', ylabel='Density'>"
      ]
     },
     "execution_count": 13,
     "metadata": {},
     "output_type": "execute_result"
    },
    {
     "data": {
      "image/png": "[encoded data removed]",
      "text/plain": [
       "<Figure size 432x288 with 1 Axes>"
      ]
     },
     "metadata": {
      "needs_background": "light"
     },
     "output_type": "display_data"
    }
   ],
   "source": [
    "sns.kdeplot(df[\"volatile acidity\"])"
   ]
  },
  {
   "cell_type": "code",
   "execution_count": 14,
   "id": "82cfa6b6",
   "metadata": {},
   "outputs": [
    {
     "name": "stderr",
     "output_type": "stream",
     "text": [
      "C:\\Users\\prran\\anaconda3\\lib\\site-packages\\seaborn\\_decorators.py:36: FutureWarning: Pass the following variable as a keyword arg: x. From version 0.12, the only valid positional argument will be `data`, and passing other arguments without an explicit keyword will result in an error or misinterpretation.\n",
      "  warnings.warn(\n"
     ]
    },
    {
     "data": {
      "text/plain": [
       "<AxesSubplot:xlabel='volatile acidity'>"
      ]
     },
     "execution_count": 14,
     "metadata": {},
     "output_type": "execute_result"
    },
    {
     "data": {
      "image/png": "[encoded data removed]",
      "text/plain": [
       "<Figure size 432x288 with 1 Axes>"
      ]
     },
     "metadata": {
      "needs_background": "light"
     },
     "output_type": "display_data"
    }
   ],
   "source": [
    "sns.boxplot(df[\"volatile acidity\"])"
   ]
  },
  {
   "cell_type": "code",
   "execution_count": 15,
   "id": "88c7d7f9",
   "metadata": {},
   "outputs": [
    {
     "name": "stdout",
     "output_type": "stream",
     "text": [
      "Mean of Array = 0.5278205128205131\n",
      "Std Deviation of Array = 0.17900370424468975\n",
      "value = 1.13 and Z-score = 3.36\n",
      "value = 1.07 and Z-score = 3.03\n",
      "value = 1.33 and Z-score = 4.48\n",
      "value = 1.33 and Z-score = 4.48\n",
      "value = 1.09 and Z-score = 3.14\n",
      "value = 1.24 and Z-score = 3.98\n",
      "value = 1.185 and Z-score = 3.67\n",
      "value = 1.115 and Z-score = 3.28\n",
      "value = 1.58 and Z-score = 5.88\n",
      "value = 1.18 and Z-score = 3.64\n"
     ]
    },
    {
     "data": {
      "text/plain": [
       "[1.13, 1.07, 1.33, 1.33, 1.09, 1.24, 1.185, 1.115, 1.58, 1.18]"
      ]
     },
     "execution_count": 15,
     "metadata": {},
     "output_type": "execute_result"
    }
   ],
   "source": [
    "get_outliers(df[\"volatile acidity\"])"
   ]
  },
  {
   "cell_type": "markdown",
   "id": "3c466103",
   "metadata": {},
   "source": [
    "## citric acid"
   ]
  },
  {
   "cell_type": "code",
   "execution_count": 16,
   "id": "cfefd788",
   "metadata": {},
   "outputs": [
    {
     "data": {
      "text/plain": [
       "<AxesSubplot:xlabel='citric acid', ylabel='Density'>"
      ]
     },
     "execution_count": 16,
     "metadata": {},
     "output_type": "execute_result"
    },
    {
     "data": {
      "image/png": "[encoded data removed]",
      "text/plain": [
       "<Figure size 432x288 with 1 Axes>"
      ]
     },
     "metadata": {
      "needs_background": "light"
     },
     "output_type": "display_data"
    }
   ],
   "source": [
    "sns.kdeplot(df[\"citric acid\"])"
   ]
  },
  {
   "cell_type": "code",
   "execution_count": 17,
   "id": "6d91f290",
   "metadata": {},
   "outputs": [
    {
     "name": "stderr",
     "output_type": "stream",
     "text": [
      "C:\\Users\\prran\\anaconda3\\lib\\site-packages\\seaborn\\_decorators.py:36: FutureWarning: Pass the following variable as a keyword arg: x. From version 0.12, the only valid positional argument will be `data`, and passing other arguments without an explicit keyword will result in an error or misinterpretation.\n",
      "  warnings.warn(\n"
     ]
    },
    {
     "data": {
      "text/plain": [
       "<AxesSubplot:xlabel='citric acid'>"
      ]
     },
     "execution_count": 17,
     "metadata": {},
     "output_type": "execute_result"
    },
    {
     "data": {
      "image/png": "[encoded data removed]",
      "text/plain": [
       "<Figure size 432x288 with 1 Axes>"
      ]
     },
     "metadata": {
      "needs_background": "light"
     },
     "output_type": "display_data"
    }
   ],
   "source": [
    "sns.boxplot(df[\"citric acid\"])"
   ]
  },
  {
   "cell_type": "code",
   "execution_count": 18,
   "id": "a5557453",
   "metadata": {},
   "outputs": [
    {
     "name": "stdout",
     "output_type": "stream",
     "text": [
      "Mean of Array = 0.2709756097560964\n",
      "Std Deviation of Array = 0.1947402144523329\n",
      "value = 1.0 and Z-score = 3.74\n"
     ]
    },
    {
     "data": {
      "text/plain": [
       "[1.0]"
      ]
     },
     "execution_count": 18,
     "metadata": {},
     "output_type": "execute_result"
    }
   ],
   "source": [
    "get_outliers(df[\"citric acid\"])"
   ]
  },
  {
   "cell_type": "markdown",
   "id": "0b966699",
   "metadata": {},
   "source": [
    "## residual sugar"
   ]
  },
  {
   "cell_type": "code",
   "execution_count": 19,
   "id": "14e64e5a",
   "metadata": {},
   "outputs": [
    {
     "data": {
      "text/plain": [
       "<AxesSubplot:xlabel='residual sugar', ylabel='Density'>"
      ]
     },
     "execution_count": 19,
     "metadata": {},
     "output_type": "execute_result"
    },
    {
     "data": {
      "image/png": "[encoded data removed]",
      "text/plain": [
       "<Figure size 432x288 with 1 Axes>"
      ]
     },
     "metadata": {
      "needs_background": "light"
     },
     "output_type": "display_data"
    }
   ],
   "source": [
    "sns.kdeplot(df['residual sugar'])"
   ]
  },
  {
   "cell_type": "code",
   "execution_count": 20,
   "id": "dfc5f0df",
   "metadata": {},
   "outputs": [
    {
     "name": "stderr",
     "output_type": "stream",
     "text": [
      "C:\\Users\\prran\\anaconda3\\lib\\site-packages\\seaborn\\_decorators.py:36: FutureWarning: Pass the following variable as a keyword arg: x. From version 0.12, the only valid positional argument will be `data`, and passing other arguments without an explicit keyword will result in an error or misinterpretation.\n",
      "  warnings.warn(\n"
     ]
    },
    {
     "data": {
      "text/plain": [
       "<AxesSubplot:xlabel='residual sugar'>"
      ]
     },
     "execution_count": 20,
     "metadata": {},
     "output_type": "execute_result"
    },
    {
     "data": {
      "image/png": "[encoded data removed]",
      "text/plain": [
       "<Figure size 432x288 with 1 Axes>"
      ]
     },
     "metadata": {
      "needs_background": "light"
     },
     "output_type": "display_data"
    }
   ],
   "source": [
    "sns.boxplot(df['residual sugar'])"
   ]
  },
  {
   "cell_type": "code",
   "execution_count": 21,
   "id": "a6620fd2",
   "metadata": {},
   "outputs": [
    {
     "name": "stdout",
     "output_type": "stream",
     "text": [
      "Mean of Array = 2.5388055034396517\n",
      "Std Deviation of Array = 1.4094871124880504\n",
      "value = 10.7 and Z-score = 5.79\n",
      "value = 7.3 and Z-score = 3.38\n",
      "value = 7.2 and Z-score = 3.31\n",
      "value = 7.0 and Z-score = 3.17\n",
      "value = 11.0 and Z-score = 6.0\n",
      "value = 11.0 and Z-score = 6.0\n",
      "value = 7.9 and Z-score = 3.8\n",
      "value = 7.9 and Z-score = 3.8\n",
      "value = 15.5 and Z-score = 9.2\n",
      "value = 8.3 and Z-score = 4.09\n",
      "value = 7.9 and Z-score = 3.8\n",
      "value = 8.6 and Z-score = 4.3\n",
      "value = 7.5 and Z-score = 3.52\n",
      "value = 9.0 and Z-score = 4.58\n",
      "value = 8.8 and Z-score = 4.44\n",
      "value = 8.8 and Z-score = 4.44\n",
      "value = 8.9 and Z-score = 4.51\n",
      "value = 8.1 and Z-score = 3.95\n",
      "value = 8.1 and Z-score = 3.95\n",
      "value = 8.3 and Z-score = 4.09\n",
      "value = 8.3 and Z-score = 4.09\n",
      "value = 7.8 and Z-score = 3.73\n",
      "value = 12.9 and Z-score = 7.35\n",
      "value = 13.4 and Z-score = 7.71\n",
      "value = 15.4 and Z-score = 9.12\n",
      "value = 15.4 and Z-score = 9.12\n",
      "value = 13.8 and Z-score = 7.99\n",
      "value = 13.8 and Z-score = 7.99\n",
      "value = 13.9 and Z-score = 8.06\n",
      "value = 7.8 and Z-score = 3.73\n"
     ]
    },
    {
     "data": {
      "text/plain": [
       "[10.7,\n",
       " 7.3,\n",
       " 7.2,\n",
       " 7.0,\n",
       " 11.0,\n",
       " 11.0,\n",
       " 7.9,\n",
       " 7.9,\n",
       " 15.5,\n",
       " 8.3,\n",
       " 7.9,\n",
       " 8.6,\n",
       " 7.5,\n",
       " 9.0,\n",
       " 8.8,\n",
       " 8.8,\n",
       " 8.9,\n",
       " 8.1,\n",
       " 8.1,\n",
       " 8.3,\n",
       " 8.3,\n",
       " 7.8,\n",
       " 12.9,\n",
       " 13.4,\n",
       " 15.4,\n",
       " 15.4,\n",
       " 13.8,\n",
       " 13.8,\n",
       " 13.9,\n",
       " 7.8]"
      ]
     },
     "execution_count": 21,
     "metadata": {},
     "output_type": "execute_result"
    }
   ],
   "source": [
    "get_outliers(df['residual sugar'])"
   ]
  },
  {
   "cell_type": "markdown",
   "id": "2fe71b3c",
   "metadata": {},
   "source": [
    "## 'chlorides'"
   ]
  },
  {
   "cell_type": "code",
   "execution_count": 22,
   "id": "155c8535",
   "metadata": {},
   "outputs": [
    {
     "data": {
      "text/plain": [
       "<AxesSubplot:xlabel='chlorides', ylabel='Density'>"
      ]
     },
     "execution_count": 22,
     "metadata": {},
     "output_type": "execute_result"
    },
    {
     "data": {
      "image/png": "[encoded data removed]",
      "text/plain": [
       "<Figure size 432x288 with 1 Axes>"
      ]
     },
     "metadata": {
      "needs_background": "light"
     },
     "output_type": "display_data"
    }
   ],
   "source": [
    "sns.kdeplot(df['chlorides'])"
   ]
  },
  {
   "cell_type": "code",
   "execution_count": 23,
   "id": "77aeebd8",
   "metadata": {},
   "outputs": [
    {
     "name": "stderr",
     "output_type": "stream",
     "text": [
      "C:\\Users\\prran\\anaconda3\\lib\\site-packages\\seaborn\\_decorators.py:36: FutureWarning: Pass the following variable as a keyword arg: x. From version 0.12, the only valid positional argument will be `data`, and passing other arguments without an explicit keyword will result in an error or misinterpretation.\n",
      "  warnings.warn(\n"
     ]
    },
    {
     "data": {
      "text/plain": [
       "<AxesSubplot:xlabel='chlorides'>"
      ]
     },
     "execution_count": 23,
     "metadata": {},
     "output_type": "execute_result"
    },
    {
     "data": {
      "image/png": "[encoded data removed]",
      "text/plain": [
       "<Figure size 432x288 with 1 Axes>"
      ]
     },
     "metadata": {
      "needs_background": "light"
     },
     "output_type": "display_data"
    }
   ],
   "source": [
    "sns.boxplot(df['chlorides'])"
   ]
  },
  {
   "cell_type": "code",
   "execution_count": 24,
   "id": "4f25bb03",
   "metadata": {},
   "outputs": [
    {
     "name": "stdout",
     "output_type": "stream",
     "text": [
      "Mean of Array = 0.08746654158849257\n",
      "Std Deviation of Array = 0.04705058260331576\n",
      "value = 0.368 and Z-score = 5.96\n",
      "value = 0.341 and Z-score = 5.39\n",
      "value = 0.332 and Z-score = 5.2\n",
      "value = 0.4639999999999999 and Z-score = 8.0\n",
      "value = 0.401 and Z-score = 6.66\n",
      "value = 0.467 and Z-score = 8.07\n",
      "value = 0.236 and Z-score = 3.16\n",
      "value = 0.61 and Z-score = 11.11\n",
      "value = 0.36 and Z-score = 5.79\n",
      "value = 0.27 and Z-score = 3.88\n",
      "value = 0.337 and Z-score = 5.3\n",
      "value = 0.263 and Z-score = 3.73\n",
      "value = 0.611 and Z-score = 11.13\n",
      "value = 0.358 and Z-score = 5.75\n",
      "value = 0.3429999999999999 and Z-score = 5.43\n",
      "value = 0.413 and Z-score = 6.92\n",
      "value = 0.25 and Z-score = 3.45\n",
      "value = 0.422 and Z-score = 7.11\n",
      "value = 0.387 and Z-score = 6.37\n",
      "value = 0.415 and Z-score = 6.96\n",
      "value = 0.243 and Z-score = 3.31\n",
      "value = 0.241 and Z-score = 3.26\n",
      "value = 0.414 and Z-score = 6.94\n",
      "value = 0.369 and Z-score = 5.98\n",
      "value = 0.4029999999999999 and Z-score = 6.71\n",
      "value = 0.414 and Z-score = 6.94\n",
      "value = 0.415 and Z-score = 6.96\n",
      "value = 0.415 and Z-score = 6.96\n",
      "value = 0.267 and Z-score = 3.82\n",
      "value = 0.235 and Z-score = 3.14\n",
      "value = 0.23 and Z-score = 3.03\n"
     ]
    },
    {
     "data": {
      "text/plain": [
       "[0.368,\n",
       " 0.341,\n",
       " 0.332,\n",
       " 0.4639999999999999,\n",
       " 0.401,\n",
       " 0.467,\n",
       " 0.236,\n",
       " 0.61,\n",
       " 0.36,\n",
       " 0.27,\n",
       " 0.337,\n",
       " 0.263,\n",
       " 0.611,\n",
       " 0.358,\n",
       " 0.3429999999999999,\n",
       " 0.413,\n",
       " 0.25,\n",
       " 0.422,\n",
       " 0.387,\n",
       " 0.415,\n",
       " 0.243,\n",
       " 0.241,\n",
       " 0.414,\n",
       " 0.369,\n",
       " 0.4029999999999999,\n",
       " 0.414,\n",
       " 0.415,\n",
       " 0.415,\n",
       " 0.267,\n",
       " 0.235,\n",
       " 0.23]"
      ]
     },
     "execution_count": 24,
     "metadata": {},
     "output_type": "execute_result"
    }
   ],
   "source": [
    "get_outliers(df['chlorides'])"
   ]
  },
  {
   "cell_type": "markdown",
   "id": "0e580f8e",
   "metadata": {},
   "source": [
    "## free sulfur dioxide"
   ]
  },
  {
   "cell_type": "code",
   "execution_count": 25,
   "id": "962686e4",
   "metadata": {},
   "outputs": [
    {
     "data": {
      "text/plain": [
       "<AxesSubplot:xlabel='free sulfur dioxide', ylabel='Density'>"
      ]
     },
     "execution_count": 25,
     "metadata": {},
     "output_type": "execute_result"
    },
    {
     "data": {
      "image/png": "[encoded data removed]",
      "text/plain": [
       "<Figure size 432x288 with 1 Axes>"
      ]
     },
     "metadata": {
      "needs_background": "light"
     },
     "output_type": "display_data"
    }
   ],
   "source": [
    "sns.kdeplot(df['free sulfur dioxide'])"
   ]
  },
  {
   "cell_type": "code",
   "execution_count": 26,
   "id": "ac43e929",
   "metadata": {},
   "outputs": [
    {
     "name": "stderr",
     "output_type": "stream",
     "text": [
      "C:\\Users\\prran\\anaconda3\\lib\\site-packages\\seaborn\\_decorators.py:36: FutureWarning: Pass the following variable as a keyword arg: x. From version 0.12, the only valid positional argument will be `data`, and passing other arguments without an explicit keyword will result in an error or misinterpretation.\n",
      "  warnings.warn(\n"
     ]
    },
    {
     "data": {
      "text/plain": [
       "<AxesSubplot:xlabel='free sulfur dioxide'>"
      ]
     },
     "execution_count": 26,
     "metadata": {},
     "output_type": "execute_result"
    },
    {
     "data": {
      "image/png": "[encoded data removed]",
      "text/plain": [
       "<Figure size 432x288 with 1 Axes>"
      ]
     },
     "metadata": {
      "needs_background": "light"
     },
     "output_type": "display_data"
    }
   ],
   "source": [
    "sns.boxplot(df['free sulfur dioxide'])"
   ]
  },
  {
   "cell_type": "code",
   "execution_count": 27,
   "id": "a1e9fc0c",
   "metadata": {},
   "outputs": [
    {
     "name": "stdout",
     "output_type": "stream",
     "text": [
      "Mean of Array = 15.874921826141339\n",
      "Std Deviation of Array = 10.456885614930723\n",
      "value = 52.0 and Z-score = 3.45\n",
      "value = 51.0 and Z-score = 3.36\n",
      "value = 50.0 and Z-score = 3.26\n",
      "value = 68.0 and Z-score = 4.98\n",
      "value = 68.0 and Z-score = 4.98\n",
      "value = 54.0 and Z-score = 3.65\n",
      "value = 53.0 and Z-score = 3.55\n",
      "value = 52.0 and Z-score = 3.45\n",
      "value = 51.0 and Z-score = 3.36\n",
      "value = 57.0 and Z-score = 3.93\n",
      "value = 50.0 and Z-score = 3.26\n",
      "value = 48.0 and Z-score = 3.07\n",
      "value = 48.0 and Z-score = 3.07\n",
      "value = 72.0 and Z-score = 5.37\n",
      "value = 51.0 and Z-score = 3.36\n",
      "value = 51.0 and Z-score = 3.36\n",
      "value = 52.0 and Z-score = 3.45\n",
      "value = 55.0 and Z-score = 3.74\n",
      "value = 55.0 and Z-score = 3.74\n",
      "value = 48.0 and Z-score = 3.07\n",
      "value = 48.0 and Z-score = 3.07\n",
      "value = 66.0 and Z-score = 4.79\n"
     ]
    },
    {
     "data": {
      "text/plain": [
       "[52.0,\n",
       " 51.0,\n",
       " 50.0,\n",
       " 68.0,\n",
       " 68.0,\n",
       " 54.0,\n",
       " 53.0,\n",
       " 52.0,\n",
       " 51.0,\n",
       " 57.0,\n",
       " 50.0,\n",
       " 48.0,\n",
       " 48.0,\n",
       " 72.0,\n",
       " 51.0,\n",
       " 51.0,\n",
       " 52.0,\n",
       " 55.0,\n",
       " 55.0,\n",
       " 48.0,\n",
       " 48.0,\n",
       " 66.0]"
      ]
     },
     "execution_count": 27,
     "metadata": {},
     "output_type": "execute_result"
    }
   ],
   "source": [
    "get_outliers(df['free sulfur dioxide'])"
   ]
  },
  {
   "cell_type": "markdown",
   "id": "393cdbea",
   "metadata": {},
   "source": [
    "## total sulfur dioxide"
   ]
  },
  {
   "cell_type": "code",
   "execution_count": 28,
   "id": "b6ef68eb",
   "metadata": {},
   "outputs": [
    {
     "data": {
      "text/plain": [
       "<AxesSubplot:xlabel='total sulfur dioxide', ylabel='Density'>"
      ]
     },
     "execution_count": 28,
     "metadata": {},
     "output_type": "execute_result"
    },
    {
     "data": {
      "image/png": "[encoded data removed]",
      "text/plain": [
       "<Figure size 432x288 with 1 Axes>"
      ]
     },
     "metadata": {
      "needs_background": "light"
     },
     "output_type": "display_data"
    }
   ],
   "source": [
    "sns.kdeplot(df['total sulfur dioxide'])"
   ]
  },
  {
   "cell_type": "code",
   "execution_count": 29,
   "id": "7d5b7e3a",
   "metadata": {},
   "outputs": [
    {
     "name": "stderr",
     "output_type": "stream",
     "text": [
      "C:\\Users\\prran\\anaconda3\\lib\\site-packages\\seaborn\\_decorators.py:36: FutureWarning: Pass the following variable as a keyword arg: x. From version 0.12, the only valid positional argument will be `data`, and passing other arguments without an explicit keyword will result in an error or misinterpretation.\n",
      "  warnings.warn(\n"
     ]
    },
    {
     "data": {
      "text/plain": [
       "<AxesSubplot:xlabel='total sulfur dioxide'>"
      ]
     },
     "execution_count": 29,
     "metadata": {},
     "output_type": "execute_result"
    },
    {
     "data": {
      "image/png": "[encoded data removed]",
      "text/plain": [
       "<Figure size 432x288 with 1 Axes>"
      ]
     },
     "metadata": {
      "needs_background": "light"
     },
     "output_type": "display_data"
    }
   ],
   "source": [
    "sns.boxplot(df['total sulfur dioxide'])"
   ]
  },
  {
   "cell_type": "code",
   "execution_count": 30,
   "id": "7e74927e",
   "metadata": {},
   "outputs": [
    {
     "name": "stdout",
     "output_type": "stream",
     "text": [
      "Mean of Array = 46.46779237023139\n",
      "Std Deviation of Array = 32.88503665178367\n",
      "value = 148.0 and Z-score = 3.09\n",
      "value = 153.0 and Z-score = 3.24\n",
      "value = 165.0 and Z-score = 3.6\n",
      "value = 151.0 and Z-score = 3.18\n",
      "value = 149.0 and Z-score = 3.12\n",
      "value = 147.0 and Z-score = 3.06\n",
      "value = 148.0 and Z-score = 3.09\n",
      "value = 155.0 and Z-score = 3.3\n",
      "value = 151.0 and Z-score = 3.18\n",
      "value = 152.0 and Z-score = 3.21\n",
      "value = 278.0 and Z-score = 7.04\n",
      "value = 289.0 and Z-score = 7.38\n",
      "value = 160.0 and Z-score = 3.45\n",
      "value = 147.0 and Z-score = 3.06\n",
      "value = 147.0 and Z-score = 3.06\n"
     ]
    },
    {
     "data": {
      "text/plain": [
       "[148.0,\n",
       " 153.0,\n",
       " 165.0,\n",
       " 151.0,\n",
       " 149.0,\n",
       " 147.0,\n",
       " 148.0,\n",
       " 155.0,\n",
       " 151.0,\n",
       " 152.0,\n",
       " 278.0,\n",
       " 289.0,\n",
       " 160.0,\n",
       " 147.0,\n",
       " 147.0]"
      ]
     },
     "execution_count": 30,
     "metadata": {},
     "output_type": "execute_result"
    }
   ],
   "source": [
    "get_outliers(df['total sulfur dioxide'])"
   ]
  },
  {
   "cell_type": "markdown",
   "id": "902548be",
   "metadata": {},
   "source": [
    "## density"
   ]
  },
  {
   "cell_type": "code",
   "execution_count": 31,
   "id": "ead2da02",
   "metadata": {},
   "outputs": [
    {
     "data": {
      "text/plain": [
       "<AxesSubplot:xlabel='density', ylabel='Density'>"
      ]
     },
     "execution_count": 31,
     "metadata": {},
     "output_type": "execute_result"
    },
    {
     "data": {
      "image/png": "[encoded data removed]",
      "text/plain": [
       "<Figure size 432x288 with 1 Axes>"
      ]
     },
     "metadata": {
      "needs_background": "light"
     },
     "output_type": "display_data"
    }
   ],
   "source": [
    "sns.kdeplot(df['density'])"
   ]
  },
  {
   "cell_type": "code",
   "execution_count": 32,
   "id": "0e3d0b72",
   "metadata": {},
   "outputs": [
    {
     "name": "stderr",
     "output_type": "stream",
     "text": [
      "C:\\Users\\prran\\anaconda3\\lib\\site-packages\\seaborn\\_decorators.py:36: FutureWarning: Pass the following variable as a keyword arg: x. From version 0.12, the only valid positional argument will be `data`, and passing other arguments without an explicit keyword will result in an error or misinterpretation.\n",
      "  warnings.warn(\n"
     ]
    },
    {
     "data": {
      "text/plain": [
       "<AxesSubplot:xlabel='density'>"
      ]
     },
     "execution_count": 32,
     "metadata": {},
     "output_type": "execute_result"
    },
    {
     "data": {
      "image/png": "[encoded data removed]",
      "text/plain": [
       "<Figure size 432x288 with 1 Axes>"
      ]
     },
     "metadata": {
      "needs_background": "light"
     },
     "output_type": "display_data"
    }
   ],
   "source": [
    "sns.boxplot(df['density'])"
   ]
  },
  {
   "cell_type": "code",
   "execution_count": 33,
   "id": "3530676f",
   "metadata": {},
   "outputs": [
    {
     "name": "stdout",
     "output_type": "stream",
     "text": [
      "Mean of Array = 0.9967466791744831\n",
      "Std Deviation of Array = 0.001886743700832392\n",
      "value = 1.0032 and Z-score = 3.42\n",
      "value = 1.0026 and Z-score = 3.1\n",
      "value = 1.00315 and Z-score = 3.39\n",
      "value = 1.00315 and Z-score = 3.39\n",
      "value = 1.00315 and Z-score = 3.39\n",
      "value = 1.0026 and Z-score = 3.1\n",
      "value = 0.99064 and Z-score = -3.24\n",
      "value = 0.99064 and Z-score = -3.24\n",
      "value = 1.00289 and Z-score = 3.26\n",
      "value = 0.99007 and Z-score = -3.54\n",
      "value = 0.99007 and Z-score = -3.54\n",
      "value = 0.9902 and Z-score = -3.47\n",
      "value = 0.9908 and Z-score = -3.15\n",
      "value = 0.99084 and Z-score = -3.13\n",
      "value = 1.00369 and Z-score = 3.68\n",
      "value = 1.00369 and Z-score = 3.68\n",
      "value = 1.00242 and Z-score = 3.01\n",
      "value = 1.00242 and Z-score = 3.01\n"
     ]
    },
    {
     "data": {
      "text/plain": [
       "[1.0032,\n",
       " 1.0026,\n",
       " 1.00315,\n",
       " 1.00315,\n",
       " 1.00315,\n",
       " 1.0026,\n",
       " 0.99064,\n",
       " 0.99064,\n",
       " 1.00289,\n",
       " 0.99007,\n",
       " 0.99007,\n",
       " 0.9902,\n",
       " 0.9908,\n",
       " 0.99084,\n",
       " 1.00369,\n",
       " 1.00369,\n",
       " 1.00242,\n",
       " 1.00242]"
      ]
     },
     "execution_count": 33,
     "metadata": {},
     "output_type": "execute_result"
    }
   ],
   "source": [
    "get_outliers(df['density'])"
   ]
  },
  {
   "cell_type": "markdown",
   "id": "4c5c2287",
   "metadata": {},
   "source": [
    "## pH"
   ]
  },
  {
   "cell_type": "code",
   "execution_count": 34,
   "id": "1f8203a9",
   "metadata": {},
   "outputs": [
    {
     "data": {
      "text/plain": [
       "<AxesSubplot:xlabel='pH', ylabel='Density'>"
      ]
     },
     "execution_count": 34,
     "metadata": {},
     "output_type": "execute_result"
    },
    {
     "data": {
      "image/png": "[encoded data removed]",
      "text/plain": [
       "<Figure size 432x288 with 1 Axes>"
      ]
     },
     "metadata": {
      "needs_background": "light"
     },
     "output_type": "display_data"
    }
   ],
   "source": [
    "sns.kdeplot(df['pH'])"
   ]
  },
  {
   "cell_type": "code",
   "execution_count": 35,
   "id": "774e16d4",
   "metadata": {},
   "outputs": [
    {
     "name": "stderr",
     "output_type": "stream",
     "text": [
      "C:\\Users\\prran\\anaconda3\\lib\\site-packages\\seaborn\\_decorators.py:36: FutureWarning: Pass the following variable as a keyword arg: x. From version 0.12, the only valid positional argument will be `data`, and passing other arguments without an explicit keyword will result in an error or misinterpretation.\n",
      "  warnings.warn(\n"
     ]
    },
    {
     "data": {
      "text/plain": [
       "<AxesSubplot:xlabel='pH'>"
      ]
     },
     "execution_count": 35,
     "metadata": {},
     "output_type": "execute_result"
    },
    {
     "data": {
      "image/png": "[encoded data removed]",
      "text/plain": [
       "<Figure size 432x288 with 1 Axes>"
      ]
     },
     "metadata": {
      "needs_background": "light"
     },
     "output_type": "display_data"
    }
   ],
   "source": [
    "sns.boxplot(df['pH'])"
   ]
  },
  {
   "cell_type": "code",
   "execution_count": 36,
   "id": "a682aa59",
   "metadata": {},
   "outputs": [
    {
     "name": "stdout",
     "output_type": "stream",
     "text": [
      "Mean of Array = 3.311113195747343\n",
      "Std Deviation of Array = 0.15433818141060152\n",
      "value = 3.9 and Z-score = 3.82\n",
      "value = 3.85 and Z-score = 3.49\n",
      "value = 2.74 and Z-score = -3.7\n",
      "value = 3.9 and Z-score = 3.82\n",
      "value = 3.78 and Z-score = 3.04\n",
      "value = 3.78 and Z-score = 3.04\n",
      "value = 4.01 and Z-score = 4.53\n",
      "value = 4.01 and Z-score = 4.53\n"
     ]
    },
    {
     "data": {
      "text/plain": [
       "[3.9, 3.85, 2.74, 3.9, 3.78, 3.78, 4.01, 4.01]"
      ]
     },
     "execution_count": 36,
     "metadata": {},
     "output_type": "execute_result"
    }
   ],
   "source": [
    "get_outliers(df['pH'])"
   ]
  },
  {
   "cell_type": "markdown",
   "id": "24d5fc78",
   "metadata": {},
   "source": [
    "## sulphates"
   ]
  },
  {
   "cell_type": "code",
   "execution_count": 37,
   "id": "45aee399",
   "metadata": {},
   "outputs": [
    {
     "data": {
      "text/plain": [
       "<AxesSubplot:xlabel='sulphates', ylabel='Density'>"
      ]
     },
     "execution_count": 37,
     "metadata": {},
     "output_type": "execute_result"
    },
    {
     "data": {
      "image/png": "[encoded data removed]",
      "text/plain": [
       "<Figure size 432x288 with 1 Axes>"
      ]
     },
     "metadata": {
      "needs_background": "light"
     },
     "output_type": "display_data"
    }
   ],
   "source": [
    "sns.kdeplot(df['sulphates'])"
   ]
  },
  {
   "cell_type": "code",
   "execution_count": 38,
   "id": "f48f4d04",
   "metadata": {},
   "outputs": [
    {
     "name": "stderr",
     "output_type": "stream",
     "text": [
      "C:\\Users\\prran\\anaconda3\\lib\\site-packages\\seaborn\\_decorators.py:36: FutureWarning: Pass the following variable as a keyword arg: x. From version 0.12, the only valid positional argument will be `data`, and passing other arguments without an explicit keyword will result in an error or misinterpretation.\n",
      "  warnings.warn(\n"
     ]
    },
    {
     "data": {
      "text/plain": [
       "<AxesSubplot:xlabel='sulphates'>"
      ]
     },
     "execution_count": 38,
     "metadata": {},
     "output_type": "execute_result"
    },
    {
     "data": {
      "image/png": "[encoded data removed]",
      "text/plain": [
       "<Figure size 432x288 with 1 Axes>"
      ]
     },
     "metadata": {
      "needs_background": "light"
     },
     "output_type": "display_data"
    }
   ],
   "source": [
    "sns.boxplot(df['sulphates'])"
   ]
  },
  {
   "cell_type": "code",
   "execution_count": 39,
   "id": "1d735d18",
   "metadata": {},
   "outputs": [
    {
     "name": "stdout",
     "output_type": "stream",
     "text": [
      "Mean of Array = 0.6581488430268921\n",
      "Std Deviation of Array = 0.16945396724179526\n",
      "value = 1.56 and Z-score = 5.32\n",
      "value = 1.28 and Z-score = 3.67\n",
      "value = 1.2 and Z-score = 3.2\n",
      "value = 1.28 and Z-score = 3.67\n",
      "value = 1.95 and Z-score = 7.62\n",
      "value = 1.22 and Z-score = 3.32\n",
      "value = 1.95 and Z-score = 7.62\n",
      "value = 1.98 and Z-score = 7.8\n",
      "value = 1.31 and Z-score = 3.85\n",
      "value = 2.0 and Z-score = 7.92\n",
      "value = 1.59 and Z-score = 5.5\n",
      "value = 1.61 and Z-score = 5.62\n",
      "value = 1.26 and Z-score = 3.55\n",
      "value = 1.36 and Z-score = 4.14\n",
      "value = 1.18 and Z-score = 3.08\n",
      "value = 1.36 and Z-score = 4.14\n",
      "value = 1.36 and Z-score = 4.14\n",
      "value = 1.17 and Z-score = 3.02\n",
      "value = 1.62 and Z-score = 5.68\n",
      "value = 1.18 and Z-score = 3.08\n",
      "value = 1.34 and Z-score = 4.02\n",
      "value = 1.17 and Z-score = 3.02\n",
      "value = 1.17 and Z-score = 3.02\n",
      "value = 1.33 and Z-score = 3.96\n",
      "value = 1.18 and Z-score = 3.08\n",
      "value = 1.17 and Z-score = 3.02\n",
      "value = 1.17 and Z-score = 3.02\n"
     ]
    },
    {
     "data": {
      "text/plain": [
       "[1.56,\n",
       " 1.28,\n",
       " 1.2,\n",
       " 1.28,\n",
       " 1.95,\n",
       " 1.22,\n",
       " 1.95,\n",
       " 1.98,\n",
       " 1.31,\n",
       " 2.0,\n",
       " 1.59,\n",
       " 1.61,\n",
       " 1.26,\n",
       " 1.36,\n",
       " 1.18,\n",
       " 1.36,\n",
       " 1.36,\n",
       " 1.17,\n",
       " 1.62,\n",
       " 1.18,\n",
       " 1.34,\n",
       " 1.17,\n",
       " 1.17,\n",
       " 1.33,\n",
       " 1.18,\n",
       " 1.17,\n",
       " 1.17]"
      ]
     },
     "execution_count": 39,
     "metadata": {},
     "output_type": "execute_result"
    }
   ],
   "source": [
    "get_outliers(df['sulphates'])"
   ]
  },
  {
   "cell_type": "markdown",
   "id": "7767bd06",
   "metadata": {},
   "source": [
    "##  alcohol"
   ]
  },
  {
   "cell_type": "code",
   "execution_count": 40,
   "id": "db662b90",
   "metadata": {},
   "outputs": [
    {
     "data": {
      "text/plain": [
       "<AxesSubplot:xlabel='alcohol', ylabel='Density'>"
      ]
     },
     "execution_count": 40,
     "metadata": {},
     "output_type": "execute_result"
    },
    {
     "data": {
      "image/png": "[encoded data removed]",
      "text/plain": [
       "<Figure size 432x288 with 1 Axes>"
      ]
     },
     "metadata": {
      "needs_background": "light"
     },
     "output_type": "display_data"
    }
   ],
   "source": [
    "sns.kdeplot(df['alcohol'])"
   ]
  },
  {
   "cell_type": "code",
   "execution_count": 41,
   "id": "cde76d57",
   "metadata": {},
   "outputs": [
    {
     "name": "stderr",
     "output_type": "stream",
     "text": [
      "C:\\Users\\prran\\anaconda3\\lib\\site-packages\\seaborn\\_decorators.py:36: FutureWarning: Pass the following variable as a keyword arg: x. From version 0.12, the only valid positional argument will be `data`, and passing other arguments without an explicit keyword will result in an error or misinterpretation.\n",
      "  warnings.warn(\n"
     ]
    },
    {
     "data": {
      "text/plain": [
       "<AxesSubplot:xlabel='alcohol'>"
      ]
     },
     "execution_count": 41,
     "metadata": {},
     "output_type": "execute_result"
    },
    {
     "data": {
      "image/png": "[encoded data removed]",
      "text/plain": [
       "<Figure size 432x288 with 1 Axes>"
      ]
     },
     "metadata": {
      "needs_background": "light"
     },
     "output_type": "display_data"
    }
   ],
   "source": [
    "sns.boxplot(df['alcohol'])"
   ]
  },
  {
   "cell_type": "code",
   "execution_count": 42,
   "id": "e6f2b778",
   "metadata": {},
   "outputs": [
    {
     "name": "stdout",
     "output_type": "stream",
     "text": [
      "Mean of Array = 10.422983114446502\n",
      "Std Deviation of Array = 1.0653343003437463\n",
      "value = 14.0 and Z-score = 3.36\n",
      "value = 14.0 and Z-score = 3.36\n",
      "value = 14.0 and Z-score = 3.36\n",
      "value = 14.0 and Z-score = 3.36\n",
      "value = 14.9 and Z-score = 4.2\n",
      "value = 14.0 and Z-score = 3.36\n",
      "value = 14.0 and Z-score = 3.36\n",
      "value = 14.0 and Z-score = 3.36\n"
     ]
    },
    {
     "data": {
      "text/plain": [
       "[14.0, 14.0, 14.0, 14.0, 14.9, 14.0, 14.0, 14.0]"
      ]
     },
     "execution_count": 42,
     "metadata": {},
     "output_type": "execute_result"
    }
   ],
   "source": [
    "get_outliers(df['alcohol'])"
   ]
  },
  {
   "cell_type": "code",
   "execution_count": 43,
   "id": "0d2b319d",
   "metadata": {},
   "outputs": [
    {
     "data": {
      "text/plain": [
       "array([5, 6, 7, 4, 8, 3], dtype=int64)"
      ]
     },
     "execution_count": 43,
     "metadata": {},
     "output_type": "execute_result"
    }
   ],
   "source": [
    "df.quality.unique()"
   ]
  },
  {
   "cell_type": "code",
   "execution_count": 44,
   "id": "ce4eb10f",
   "metadata": {},
   "outputs": [],
   "source": [
    "df[\"quality\"] = [1 if i>6 else 0 for i in df[\"quality\"]]"
   ]
  },
  {
   "cell_type": "code",
   "execution_count": 45,
   "id": "bac26ff8",
   "metadata": {},
   "outputs": [
    {
     "data": {
      "text/plain": [
       "0    1382\n",
       "1     217\n",
       "Name: quality, dtype: int64"
      ]
     },
     "execution_count": 45,
     "metadata": {},
     "output_type": "execute_result"
    }
   ],
   "source": [
    "df.quality.value_counts()"
   ]
  },
  {
   "cell_type": "code",
   "execution_count": 46,
   "id": "7088b735",
   "metadata": {},
   "outputs": [
    {
     "name": "stderr",
     "output_type": "stream",
     "text": [
      "C:\\Users\\prran\\anaconda3\\lib\\site-packages\\seaborn\\_decorators.py:36: FutureWarning: Pass the following variable as a keyword arg: x. From version 0.12, the only valid positional argument will be `data`, and passing other arguments without an explicit keyword will result in an error or misinterpretation.\n",
      "  warnings.warn(\n"
     ]
    },
    {
     "data": {
      "text/plain": [
       "<AxesSubplot:xlabel='quality', ylabel='count'>"
      ]
     },
     "execution_count": 46,
     "metadata": {},
     "output_type": "execute_result"
    },
    {
     "data": {
      "image/png": "[encoded data removed]",
      "text/plain": [
       "<Figure size 432x288 with 1 Axes>"
      ]
     },
     "metadata": {
      "needs_background": "light"
     },
     "output_type": "display_data"
    }
   ],
   "source": [
    "sns.countplot(df.quality)"
   ]
  },
  {
   "cell_type": "markdown",
   "id": "6646f7b4",
   "metadata": {},
   "source": [
    "## Model Training"
   ]
  },
  {
   "cell_type": "code",
   "execution_count": 47,
   "id": "545289f9",
   "metadata": {},
   "outputs": [
    {
     "name": "stdout",
     "output_type": "stream",
     "text": [
      "<class 'pandas.core.frame.DataFrame'>\n",
      "RangeIndex: 1599 entries, 0 to 1598\n",
      "Data columns (total 12 columns):\n",
      " #   Column                Non-Null Count  Dtype  \n",
      "---  ------                --------------  -----  \n",
      " 0   fixed acidity         1599 non-null   float64\n",
      " 1   volatile acidity      1599 non-null   float64\n",
      " 2   citric acid           1599 non-null   float64\n",
      " 3   residual sugar        1599 non-null   float64\n",
      " 4   chlorides             1599 non-null   float64\n",
      " 5   free sulfur dioxide   1599 non-null   float64\n",
      " 6   total sulfur dioxide  1599 non-null   float64\n",
      " 7   density               1599 non-null   float64\n",
      " 8   pH                    1599 non-null   float64\n",
      " 9   sulphates             1599 non-null   float64\n",
      " 10  alcohol               1599 non-null   float64\n",
      " 11  quality               1599 non-null   int64  \n",
      "dtypes: float64(11), int64(1)\n",
      "memory usage: 150.0 KB\n"
     ]
    }
   ],
   "source": [
    "df.info()"
   ]
  },
  {
   "cell_type": "code",
   "execution_count": 48,
   "id": "2605fa86",
   "metadata": {},
   "outputs": [],
   "source": [
    "x = df.drop(\"quality\",axis=1)\n",
    "y = df[\"quality\"]"
   ]
  },
  {
   "cell_type": "code",
   "execution_count": 49,
   "id": "2109a29a",
   "metadata": {},
   "outputs": [],
   "source": [
    "from imblearn.over_sampling import SMOTE"
   ]
  },
  {
   "cell_type": "code",
   "execution_count": 50,
   "id": "1d95d369",
   "metadata": {},
   "outputs": [
    {
     "data": {
      "text/plain": [
       "array([0, 1], dtype=int64)"
      ]
     },
     "execution_count": 50,
     "metadata": {},
     "output_type": "execute_result"
    }
   ],
   "source": [
    "x_res , y_res = SMOTE().fit_resample(x,y)\n",
    "y_res.unique()\n"
   ]
  },
  {
   "cell_type": "code",
   "execution_count": 51,
   "id": "5143d794",
   "metadata": {},
   "outputs": [
    {
     "data": {
      "text/plain": [
       "(2764, 11)"
      ]
     },
     "execution_count": 51,
     "metadata": {},
     "output_type": "execute_result"
    }
   ],
   "source": [
    "x_res.shape"
   ]
  },
  {
   "cell_type": "code",
   "execution_count": 52,
   "id": "2745977f",
   "metadata": {},
   "outputs": [
    {
     "data": {
      "text/plain": [
       "(2764,)"
      ]
     },
     "execution_count": 52,
     "metadata": {},
     "output_type": "execute_result"
    }
   ],
   "source": [
    "y_res.shape"
   ]
  },
  {
   "cell_type": "code",
   "execution_count": 53,
   "id": "3fac033a",
   "metadata": {},
   "outputs": [
    {
     "data": {
      "text/plain": [
       "0    1382\n",
       "1    1382\n",
       "Name: quality, dtype: int64"
      ]
     },
     "execution_count": 53,
     "metadata": {},
     "output_type": "execute_result"
    }
   ],
   "source": [
    "y_res.value_counts()"
   ]
  },
  {
   "cell_type": "code",
   "execution_count": 54,
   "id": "92772ffe",
   "metadata": {},
   "outputs": [
    {
     "name": "stderr",
     "output_type": "stream",
     "text": [
      "C:\\Users\\prran\\anaconda3\\lib\\site-packages\\seaborn\\_decorators.py:36: FutureWarning: Pass the following variable as a keyword arg: x. From version 0.12, the only valid positional argument will be `data`, and passing other arguments without an explicit keyword will result in an error or misinterpretation.\n",
      "  warnings.warn(\n"
     ]
    },
    {
     "data": {
      "text/plain": [
       "<AxesSubplot:xlabel='quality', ylabel='count'>"
      ]
     },
     "execution_count": 54,
     "metadata": {},
     "output_type": "execute_result"
    },
    {
     "data": {
      "image/png": "[encoded data removed]",
      "text/plain": [
       "<Figure size 432x288 with 1 Axes>"
      ]
     },
     "metadata": {
      "needs_background": "light"
     },
     "output_type": "display_data"
    }
   ],
   "source": [
    "sns.countplot(df.quality)"
   ]
  },
  {
   "cell_type": "code",
   "execution_count": 55,
   "id": "85715e15",
   "metadata": {},
   "outputs": [],
   "source": [
    "from sklearn.model_selection import train_test_split\n",
    "from sklearn.linear_model import  LogisticRegression\n",
    "from sklearn.metrics import accuracy_score, classification_report ,confusion_matrix"
   ]
  },
  {
   "cell_type": "code",
   "execution_count": 56,
   "id": "1ada3d2b",
   "metadata": {},
   "outputs": [
    {
     "data": {
      "text/plain": [
       "((1934, 11), (830, 11), (1934,), (830,))"
      ]
     },
     "execution_count": 56,
     "metadata": {},
     "output_type": "execute_result"
    }
   ],
   "source": [
    "x_train,x_test,y_train,y_test = train_test_split(x_res,y_res,test_size=0.3,random_state=6,stratify=y_res)\n",
    "x_train.shape,x_test.shape,y_train.shape,y_test.shape"
   ]
  },
  {
   "cell_type": "code",
   "execution_count": 57,
   "id": "64a98a48",
   "metadata": {},
   "outputs": [
    {
     "name": "stderr",
     "output_type": "stream",
     "text": [
      "C:\\Users\\prran\\anaconda3\\lib\\site-packages\\sklearn\\linear_model\\_logistic.py:814: ConvergenceWarning: lbfgs failed to converge (status=1):\n",
      "STOP: TOTAL NO. of ITERATIONS REACHED LIMIT.\n",
      "\n",
      "Increase the number of iterations (max_iter) or scale the data as shown in:\n",
      "    https://scikit-learn.org/stable/modules/preprocessing.html\n",
      "Please also refer to the documentation for alternative solver options:\n",
      "    https://scikit-learn.org/stable/modules/linear_model.html#logistic-regression\n",
      "  n_iter_i = _check_optimize_result(\n"
     ]
    },
    {
     "data": {
      "text/plain": [
       "LogisticRegression(max_iter=300)"
      ]
     },
     "execution_count": 57,
     "metadata": {},
     "output_type": "execute_result"
    }
   ],
   "source": [
    "model = LogisticRegression(max_iter=300)\n",
    "model.fit(x_train,y_train)"
   ]
  },
  {
   "cell_type": "code",
   "execution_count": 58,
   "id": "dbd20764",
   "metadata": {},
   "outputs": [],
   "source": [
    "def model_eval(model,x,y):\n",
    "    y_pred = model.predict(x)\n",
    "    \n",
    "    print(f\"Accuracy Score = {accuracy_score(y,y_pred)}\")\n",
    "    print(f\" confusion matrix = \\n{confusion_matrix(y,y_pred)}\")\n",
    "    print(f\"Clasification report = \\n{classification_report(y,y_pred)}\")\n",
    "    "
   ]
  },
  {
   "cell_type": "code",
   "execution_count": 59,
   "id": "925841ba",
   "metadata": {},
   "outputs": [
    {
     "name": "stdout",
     "output_type": "stream",
     "text": [
      "Accuracy Score = 0.8133402275077559\n",
      " confusion matrix = \n",
      "[[764 203]\n",
      " [158 809]]\n",
      "Clasification report = \n",
      "              precision    recall  f1-score   support\n",
      "\n",
      "           0       0.83      0.79      0.81       967\n",
      "           1       0.80      0.84      0.82       967\n",
      "\n",
      "    accuracy                           0.81      1934\n",
      "   macro avg       0.81      0.81      0.81      1934\n",
      "weighted avg       0.81      0.81      0.81      1934\n",
      "\n"
     ]
    }
   ],
   "source": [
    "model_eval(model,x_train,y_train)"
   ]
  },
  {
   "cell_type": "code",
   "execution_count": 60,
   "id": "4110b41e",
   "metadata": {},
   "outputs": [
    {
     "name": "stdout",
     "output_type": "stream",
     "text": [
      "Accuracy Score = 0.8265060240963855\n",
      " confusion matrix = \n",
      "[[335  80]\n",
      " [ 64 351]]\n",
      "Clasification report = \n",
      "              precision    recall  f1-score   support\n",
      "\n",
      "           0       0.84      0.81      0.82       415\n",
      "           1       0.81      0.85      0.83       415\n",
      "\n",
      "    accuracy                           0.83       830\n",
      "   macro avg       0.83      0.83      0.83       830\n",
      "weighted avg       0.83      0.83      0.83       830\n",
      "\n"
     ]
    }
   ],
   "source": [
    "model_eval(model,x_test,y_test)"
   ]
  },
  {
   "cell_type": "code",
   "execution_count": null,
   "id": "8dfd1539",
   "metadata": {},
   "outputs": [],
   "source": []
  },
  {
   "cell_type": "markdown",
   "id": "82cf1692",
   "metadata": {},
   "source": [
    "## Pickel file"
   ]
  },
  {
   "cell_type": "code",
   "execution_count": 61,
   "id": "9d00aef9",
   "metadata": {},
   "outputs": [],
   "source": [
    "import json\n",
    "import pickle"
   ]
  },
  {
   "cell_type": "code",
   "execution_count": 62,
   "id": "6dd04d11",
   "metadata": {},
   "outputs": [],
   "source": [
    "with open(\"wine_quality_model.pkl\",\"wb\") as file:\n",
    "    pickle.dump(model,file)"
   ]
  },
  {
   "cell_type": "code",
   "execution_count": 63,
   "id": "e0e12c58",
   "metadata": {},
   "outputs": [
    {
     "data": {
      "text/plain": [
       "{'Columns': ['fixed acidity',\n",
       "  'volatile acidity',\n",
       "  'citric acid',\n",
       "  'residual sugar',\n",
       "  'chlorides',\n",
       "  'free sulfur dioxide',\n",
       "  'total sulfur dioxide',\n",
       "  'density',\n",
       "  'pH',\n",
       "  'sulphates',\n",
       "  'alcohol',\n",
       "  'quality']}"
      ]
     },
     "execution_count": 63,
     "metadata": {},
     "output_type": "execute_result"
    }
   ],
   "source": [
    "col = {\"Columns\" : df.columns.to_list()}\n",
    "col"
   ]
  },
  {
   "cell_type": "code",
   "execution_count": 64,
   "id": "53d36107",
   "metadata": {},
   "outputs": [],
   "source": [
    "with open(\"column.json\",\"w\") as file:\n",
    "    json.dump(col,file)"
   ]
  },
  {
   "cell_type": "code",
   "execution_count": null,
   "id": "63edb576",
   "metadata": {},
   "outputs": [],
   "source": []
  },
  {
   "cell_type": "code",
   "execution_count": 65,
   "id": "2a80080b",
   "metadata": {},
   "outputs": [
    {
     "data": {
      "text/html": [
       "<div>\n",
       "<style scoped>\n",
       "    .dataframe tbody tr th:only-of-type {\n",
       "        vertical-align: middle;\n",
       "    }\n",
       "\n",
       "    .dataframe tbody tr th {\n",
       "        vertical-align: top;\n",
       "    }\n",
       "\n",
       "    .dataframe thead th {\n",
       "        text-align: right;\n",
       "    }\n",
       "</style>\n",
       "<table border=\"1\" class=\"dataframe\">\n",
       "  <thead>\n",
       "    <tr style=\"text-align: right;\">\n",
       "      <th></th>\n",
       "      <th>fixed acidity</th>\n",
       "      <th>volatile acidity</th>\n",
       "      <th>citric acid</th>\n",
       "      <th>residual sugar</th>\n",
       "      <th>chlorides</th>\n",
       "      <th>free sulfur dioxide</th>\n",
       "      <th>total sulfur dioxide</th>\n",
       "      <th>density</th>\n",
       "      <th>pH</th>\n",
       "      <th>sulphates</th>\n",
       "      <th>alcohol</th>\n",
       "      <th>quality</th>\n",
       "    </tr>\n",
       "  </thead>\n",
       "  <tbody>\n",
       "    <tr>\n",
       "      <th>0</th>\n",
       "      <td>7.4</td>\n",
       "      <td>0.70</td>\n",
       "      <td>0.00</td>\n",
       "      <td>1.9</td>\n",
       "      <td>0.076</td>\n",
       "      <td>11.0</td>\n",
       "      <td>34.0</td>\n",
       "      <td>0.9978</td>\n",
       "      <td>3.51</td>\n",
       "      <td>0.56</td>\n",
       "      <td>9.4</td>\n",
       "      <td>0</td>\n",
       "    </tr>\n",
       "    <tr>\n",
       "      <th>1</th>\n",
       "      <td>7.8</td>\n",
       "      <td>0.88</td>\n",
       "      <td>0.00</td>\n",
       "      <td>2.6</td>\n",
       "      <td>0.098</td>\n",
       "      <td>25.0</td>\n",
       "      <td>67.0</td>\n",
       "      <td>0.9968</td>\n",
       "      <td>3.20</td>\n",
       "      <td>0.68</td>\n",
       "      <td>9.8</td>\n",
       "      <td>0</td>\n",
       "    </tr>\n",
       "    <tr>\n",
       "      <th>2</th>\n",
       "      <td>7.8</td>\n",
       "      <td>0.76</td>\n",
       "      <td>0.04</td>\n",
       "      <td>2.3</td>\n",
       "      <td>0.092</td>\n",
       "      <td>15.0</td>\n",
       "      <td>54.0</td>\n",
       "      <td>0.9970</td>\n",
       "      <td>3.26</td>\n",
       "      <td>0.65</td>\n",
       "      <td>9.8</td>\n",
       "      <td>0</td>\n",
       "    </tr>\n",
       "    <tr>\n",
       "      <th>3</th>\n",
       "      <td>11.2</td>\n",
       "      <td>0.28</td>\n",
       "      <td>0.56</td>\n",
       "      <td>1.9</td>\n",
       "      <td>0.075</td>\n",
       "      <td>17.0</td>\n",
       "      <td>60.0</td>\n",
       "      <td>0.9980</td>\n",
       "      <td>3.16</td>\n",
       "      <td>0.58</td>\n",
       "      <td>9.8</td>\n",
       "      <td>0</td>\n",
       "    </tr>\n",
       "    <tr>\n",
       "      <th>4</th>\n",
       "      <td>7.4</td>\n",
       "      <td>0.70</td>\n",
       "      <td>0.00</td>\n",
       "      <td>1.9</td>\n",
       "      <td>0.076</td>\n",
       "      <td>11.0</td>\n",
       "      <td>34.0</td>\n",
       "      <td>0.9978</td>\n",
       "      <td>3.51</td>\n",
       "      <td>0.56</td>\n",
       "      <td>9.4</td>\n",
       "      <td>0</td>\n",
       "    </tr>\n",
       "  </tbody>\n",
       "</table>\n",
       "</div>"
      ],
      "text/plain": [
       "   fixed acidity  volatile acidity  citric acid  residual sugar  chlorides  \\\n",
       "0            7.4              0.70         0.00             1.9      0.076   \n",
       "1            7.8              0.88         0.00             2.6      0.098   \n",
       "2            7.8              0.76         0.04             2.3      0.092   \n",
       "3           11.2              0.28         0.56             1.9      0.075   \n",
       "4            7.4              0.70         0.00             1.9      0.076   \n",
       "\n",
       "   free sulfur dioxide  total sulfur dioxide  density    pH  sulphates  \\\n",
       "0                 11.0                  34.0   0.9978  3.51       0.56   \n",
       "1                 25.0                  67.0   0.9968  3.20       0.68   \n",
       "2                 15.0                  54.0   0.9970  3.26       0.65   \n",
       "3                 17.0                  60.0   0.9980  3.16       0.58   \n",
       "4                 11.0                  34.0   0.9978  3.51       0.56   \n",
       "\n",
       "   alcohol  quality  \n",
       "0      9.4        0  \n",
       "1      9.8        0  \n",
       "2      9.8        0  \n",
       "3      9.8        0  \n",
       "4      9.4        0  "
      ]
     },
     "execution_count": 65,
     "metadata": {},
     "output_type": "execute_result"
    }
   ],
   "source": [
    "df.head()"
   ]
  },
  {
   "cell_type": "code",
   "execution_count": null,
   "id": "d3484356",
   "metadata": {},
   "outputs": [],
   "source": []
  }
 ],
 "metadata": {
  "kernelspec": {
   "display_name": "Python 3 (ipykernel)",
   "language": "python",
   "name": "python3"
  },
  "language_info": {
   "codemirror_mode": {
    "name": "ipython",
    "version": 3
   },
   "file_extension": ".py",
   "mimetype": "text/x-python",
   "name": "python",
   "nbconvert_exporter": "python",
   "pygments_lexer": "ipython3",
   "version": "3.9.12"
  }
 },
 "nbformat": 4,
 "nbformat_minor": 5
}
